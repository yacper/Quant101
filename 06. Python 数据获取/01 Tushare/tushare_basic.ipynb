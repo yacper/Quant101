{
 "cells": [
  {
   "cell_type": "code",
   "execution_count": 1,
   "id": "96d2e3dd",
   "metadata": {
    "scrolled": false
   },
   "outputs": [
    {
     "data": {
      "text/plain": [
       "8"
      ]
     },
     "execution_count": 1,
     "metadata": {},
     "output_type": "execute_result"
    }
   ],
   "source": [
    "3+5"
   ]
  },
  {
   "cell_type": "code",
   "execution_count": 1,
   "id": "af6b92e2",
   "metadata": {},
   "outputs": [],
   "source": [
    "import tushare as ts"
   ]
  },
  {
   "cell_type": "code",
   "execution_count": 2,
   "id": "e4786df5",
   "metadata": {},
   "outputs": [],
   "source": [
    "ts.set_token('76b41907f00fe4e2ce0c10616254ac56a8657521be0939e5c0dd3d49')"
   ]
  },
  {
   "cell_type": "code",
   "execution_count": 3,
   "id": "69b80655",
   "metadata": {},
   "outputs": [],
   "source": [
    "pro = ts.pro_api()"
   ]
  },
  {
   "cell_type": "code",
   "execution_count": 4,
   "id": "f3457ab1",
   "metadata": {},
   "outputs": [],
   "source": [
    "df=pro.daily(ts_code='000001.SZ', start_date='20180701', end_date='20180718')"
   ]
  },
  {
   "cell_type": "code",
   "execution_count": 5,
   "id": "9ed6c397",
   "metadata": {},
   "outputs": [
    {
     "data": {
      "text/html": [
       "<div>\n",
       "<style scoped>\n",
       "    .dataframe tbody tr th:only-of-type {\n",
       "        vertical-align: middle;\n",
       "    }\n",
       "\n",
       "    .dataframe tbody tr th {\n",
       "        vertical-align: top;\n",
       "    }\n",
       "\n",
       "    .dataframe thead th {\n",
       "        text-align: right;\n",
       "    }\n",
       "</style>\n",
       "<table border=\"1\" class=\"dataframe\">\n",
       "  <thead>\n",
       "    <tr style=\"text-align: right;\">\n",
       "      <th></th>\n",
       "      <th>ts_code</th>\n",
       "      <th>trade_date</th>\n",
       "      <th>open</th>\n",
       "      <th>high</th>\n",
       "      <th>low</th>\n",
       "      <th>close</th>\n",
       "      <th>pre_close</th>\n",
       "      <th>change</th>\n",
       "      <th>pct_chg</th>\n",
       "      <th>vol</th>\n",
       "      <th>amount</th>\n",
       "    </tr>\n",
       "  </thead>\n",
       "  <tbody>\n",
       "    <tr>\n",
       "      <th>0</th>\n",
       "      <td>000001.SZ</td>\n",
       "      <td>20180718</td>\n",
       "      <td>8.75</td>\n",
       "      <td>8.85</td>\n",
       "      <td>8.69</td>\n",
       "      <td>8.70</td>\n",
       "      <td>8.72</td>\n",
       "      <td>-0.02</td>\n",
       "      <td>-0.23</td>\n",
       "      <td>525152.77</td>\n",
       "      <td>460697.377</td>\n",
       "    </tr>\n",
       "    <tr>\n",
       "      <th>1</th>\n",
       "      <td>000001.SZ</td>\n",
       "      <td>20180717</td>\n",
       "      <td>8.74</td>\n",
       "      <td>8.75</td>\n",
       "      <td>8.66</td>\n",
       "      <td>8.72</td>\n",
       "      <td>8.73</td>\n",
       "      <td>-0.01</td>\n",
       "      <td>-0.11</td>\n",
       "      <td>375356.33</td>\n",
       "      <td>326396.994</td>\n",
       "    </tr>\n",
       "    <tr>\n",
       "      <th>2</th>\n",
       "      <td>000001.SZ</td>\n",
       "      <td>20180716</td>\n",
       "      <td>8.85</td>\n",
       "      <td>8.90</td>\n",
       "      <td>8.69</td>\n",
       "      <td>8.73</td>\n",
       "      <td>8.88</td>\n",
       "      <td>-0.15</td>\n",
       "      <td>-1.69</td>\n",
       "      <td>689845.58</td>\n",
       "      <td>603427.713</td>\n",
       "    </tr>\n",
       "    <tr>\n",
       "      <th>3</th>\n",
       "      <td>000001.SZ</td>\n",
       "      <td>20180713</td>\n",
       "      <td>8.92</td>\n",
       "      <td>8.94</td>\n",
       "      <td>8.82</td>\n",
       "      <td>8.88</td>\n",
       "      <td>8.88</td>\n",
       "      <td>0.00</td>\n",
       "      <td>0.00</td>\n",
       "      <td>603378.21</td>\n",
       "      <td>535401.175</td>\n",
       "    </tr>\n",
       "    <tr>\n",
       "      <th>4</th>\n",
       "      <td>000001.SZ</td>\n",
       "      <td>20180712</td>\n",
       "      <td>8.60</td>\n",
       "      <td>8.97</td>\n",
       "      <td>8.58</td>\n",
       "      <td>8.88</td>\n",
       "      <td>8.64</td>\n",
       "      <td>0.24</td>\n",
       "      <td>2.78</td>\n",
       "      <td>1140492.31</td>\n",
       "      <td>1008658.828</td>\n",
       "    </tr>\n",
       "  </tbody>\n",
       "</table>\n",
       "</div>"
      ],
      "text/plain": [
       "     ts_code trade_date  open  high   low  close  pre_close  change  pct_chg  \\\n",
       "0  000001.SZ   20180718  8.75  8.85  8.69   8.70       8.72   -0.02    -0.23   \n",
       "1  000001.SZ   20180717  8.74  8.75  8.66   8.72       8.73   -0.01    -0.11   \n",
       "2  000001.SZ   20180716  8.85  8.90  8.69   8.73       8.88   -0.15    -1.69   \n",
       "3  000001.SZ   20180713  8.92  8.94  8.82   8.88       8.88    0.00     0.00   \n",
       "4  000001.SZ   20180712  8.60  8.97  8.58   8.88       8.64    0.24     2.78   \n",
       "\n",
       "          vol       amount  \n",
       "0   525152.77   460697.377  \n",
       "1   375356.33   326396.994  \n",
       "2   689845.58   603427.713  \n",
       "3   603378.21   535401.175  \n",
       "4  1140492.31  1008658.828  "
      ]
     },
     "execution_count": 5,
     "metadata": {},
     "output_type": "execute_result"
    }
   ],
   "source": [
    "df.head()"
   ]
  },
  {
   "cell_type": "code",
   "execution_count": 6,
   "id": "81e534d6",
   "metadata": {},
   "outputs": [],
   "source": [
    "%matplotlib inline"
   ]
  },
  {
   "cell_type": "code",
   "execution_count": 9,
   "id": "1022232f",
   "metadata": {},
   "outputs": [
    {
     "data": {
      "text/plain": [
       "<AxesSubplot:>"
      ]
     },
     "execution_count": 9,
     "metadata": {},
     "output_type": "execute_result"
    },
    {
     "data": {
      "image/png": "[encoded data removed]",
      "text/plain": [
       "<Figure size 432x288 with 1 Axes>"
      ]
     },
     "metadata": {
      "needs_background": "light"
     },
     "output_type": "display_data"
    }
   ],
   "source": [
    "df['close'].plot()"
   ]
  },
  {
   "cell_type": "code",
   "execution_count": 10,
   "id": "27b4001e",
   "metadata": {},
   "outputs": [
    {
     "data": {
      "text/plain": [
       "<AxesSubplot:>"
      ]
     },
     "execution_count": 10,
     "metadata": {},
     "output_type": "execute_result"
    },
    {
     "data": {
      "image/png": "[encoded data removed]",
      "text/plain": [
       "<Figure size 720x576 with 1 Axes>"
      ]
     },
     "metadata": {
      "needs_background": "light"
     },
     "output_type": "display_data"
    }
   ],
   "source": [
    "df['close'].plot(figsize=(10,8))"
   ]
  },
  {
   "cell_type": "code",
   "execution_count": 16,
   "id": "d840cb6f",
   "metadata": {},
   "outputs": [],
   "source": [
    "import seaborn"
   ]
  },
  {
   "cell_type": "code",
   "execution_count": 17,
   "id": "583ec3cb",
   "metadata": {},
   "outputs": [
    {
     "data": {
      "text/plain": [
       "<AxesSubplot:>"
      ]
     },
     "execution_count": 17,
     "metadata": {},
     "output_type": "execute_result"
    },
    {
     "data": {
      "image/png": "[encoded data removed]",
      "text/plain": [
       "<Figure size 432x288 with 1 Axes>"
      ]
     },
     "metadata": {
      "needs_background": "light"
     },
     "output_type": "display_data"
    }
   ],
   "source": [
    "df['close'].plot()"
   ]
  }
 ],
 "metadata": {
  "kernelspec": {
   "display_name": "Python 3",
   "language": "python",
   "name": "python3"
  },
  "language_info": {
   "codemirror_mode": {
    "name": "ipython",
    "version": 3
   },
   "file_extension": ".py",
   "mimetype": "text/x-python",
   "name": "python",
   "nbconvert_exporter": "python",
   "pygments_lexer": "ipython3",
   "version": "3.8.8"
  }
 },
 "nbformat": 4,
 "nbformat_minor": 5
}
