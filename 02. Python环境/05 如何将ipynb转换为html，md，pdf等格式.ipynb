{
 "cells": [
  {
   "cell_type": "code",
   "execution_count": 1,
   "metadata": {},
   "outputs": [
    {
     "ename": "SyntaxError",
     "evalue": "invalid character in identifier (<ipython-input-1-b33a64bf09c8>, line 1)",
     "output_type": "error",
     "traceback": [
      "\u001b[1;36m  File \u001b[1;32m\"<ipython-input-1-b33a64bf09c8>\"\u001b[1;36m, line \u001b[1;32m1\u001b[0m\n\u001b[1;33m    jupyter notebook是一个非常棒的工具，关于jupyter的入门教程请参考我之前写的两篇博客：\u001b[0m\n\u001b[1;37m                                                        ^\u001b[0m\n\u001b[1;31mSyntaxError\u001b[0m\u001b[1;31m:\u001b[0m invalid character in identifier\n"
     ]
    }
   ],
   "source": [
    "jupyter notebook是一个非常棒的工具，关于jupyter的入门教程请参考我之前写的两篇博客：\n",
    "\n",
    "Jupyter notebook入门教程（上）\n",
    "\n",
    "Jupyter notebook入门教程（下）\n",
    "\n",
    "那么用jupyter notebook写的后缀名是.ipynb的文件如何转换成html，md，pdf等格式呢？本文将做简单介绍。\n",
    "\n",
    "ipynb转为html格式\n",
    "在Ubuntu命令行输入：\n",
    "\n",
    "jupyter nbconvert --to html notebook.ipynb\n",
    "1\n",
    "另外，jupyter提供了一些命令，可以对生成的html格式进行配置：\n",
    "\n",
    "jupyter nbconvert --to html --template full notebook.ipynb\n",
    "1\n",
    "这是默认配置，提供完整的静态html格式，交互性更强。\n",
    "\n",
    "jupyter nbconvert --to html --template basic notebook.ipynb\n",
    "1\n",
    "简化的html，用于嵌入网页、博客等，这不包括html标题。\n",
    "\n",
    "ipynb转换为md格式\n",
    "在Ubuntu命令行输入：\n",
    "\n",
    "jupyter nbconvert --to md notebook.ipynb\n",
    "1\n",
    "简单的Markdown格式输出，cell单元不受影响，代码cell缩进4个空格。\n",
    "\n",
    "ipynb转换为tex格式\n",
    "在Ubuntu命令行输入：\n",
    "\n",
    "jupyter nbconvert --to letex notebook.ipynb\n",
    "1\n",
    "Letex导出格式，生成后缀名为NOTEBOOK_NAME.tex的文件。jupyter提供的额外模板配置为：\n",
    "\n",
    "jupyter nbconvert --to letex -template article notebook.ipynb\n",
    "1\n",
    "这是默认配置，Latex文章。\n",
    "\n",
    "jupyter nbconvert --to letex -template report notebook.ipynb\n",
    "1\n",
    "Latex报告，提供目录和章节。\n",
    "\n",
    "jupyter nbconvert --to letex -template basic notebook.ipynb\n",
    "1\n",
    "最基本的Latex输出，经常用来自定义配置。\n",
    "\n",
    "ipython转换为pdf格式\n",
    "在Ubuntu命令行输入：\n",
    "\n",
    "jupyter nbconvert --to pdf notebook.ipynb\n",
    "1\n",
    "转换为pdf格式分模板配置与latex配置是一样的。但是直接转换为pdf格式经常会出现下列错误：\n",
    "\n",
    "\n",
    "\n",
    "该错误提示没有安装xelatex。所以，我们需要提前安装xelatex，方法是安装texLive套装：\n",
    "\n",
    "sudo apt-get install texlive-full\n",
    "1\n",
    "texlive-full的安装包有点大，约1G多。\n",
    "\n",
    "简单的转换方法\n",
    "ipynb转换为html、md、pdf等格式，还有另一种更简单的方法：在jupyter notebook中，选择File->Download as，直接选择需要转换的格式就可以了。需要注意的是，转换为pdf格式之前，同样要保证已经安装了xelatex。\n",
    "\n",
    "\n",
    "\n",
    "参考文献：\n",
    "\n",
    "Converting notebooks to other formats\n",
    "\n",
    "Markdown+Pandoc 最佳写作拍档 (mailp.in)\n",
    "————————————————\n",
    "版权声明：本文为CSDN博主「红色石头Will」的原创文章，遵循CC 4.0 BY-SA版权协议，转载请附上原文出处链接及本声明。\n",
    "原文链接：https://blog.csdn.net/red_stone1/article/details/73380517"
   ]
  },
  {
   "cell_type": "markdown",
   "metadata": {},
   "source": []
  },
  {
   "cell_type": "code",
   "execution_count": null,
   "metadata": {},
   "outputs": [],
   "source": []
  }
 ],
 "metadata": {
  "interpreter": {
   "hash": "6f7c4d44365b28014734406e4d617c1e1f76ea196def854c7b951a230f6e24f1"
  },
  "kernelspec": {
   "display_name": "Python 3.9.5 64-bit",
   "language": "python",
   "name": "python3"
  },
  "language_info": {
   "codemirror_mode": {
    "name": "ipython",
    "version": 3
   },
   "file_extension": ".py",
   "mimetype": "text/x-python",
   "name": "python",
   "nbconvert_exporter": "python",
   "pygments_lexer": "ipython3",
   "version": "3.8.8"
  },
  "orig_nbformat": 4
 },
 "nbformat": 4,
 "nbformat_minor": 2
}
