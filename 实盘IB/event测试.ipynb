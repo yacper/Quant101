{
 "cells": [
  {
   "cell_type": "code",
   "execution_count": 1,
   "metadata": {},
   "outputs": [
    {
     "name": "stdout",
     "output_type": "stream",
     "text": [
      "Ready?\n",
      "5\n",
      "4\n",
      "3\n",
      "2\n",
      "1\n",
      "goooooo...\n"
     ]
    }
   ],
   "source": [
    "import threading\n",
    "import time\n",
    "\n",
    "control = threading.Event()      # 初始化Event后Flag就是False的；\n",
    "\n",
    "def ready():\n",
    "    print('Ready?')\n",
    "    for i in range(5,0,-1):\n",
    "        print(i)\n",
    "        time.sleep(0.5)\n",
    "    control.set()                # set()就是将Flag设置成True；\n",
    "\n",
    "\n",
    "def go():\n",
    "    control.wait()\n",
    "    print('goooooo...')\n",
    "\n",
    "thread1 = threading.Thread(target=ready)\n",
    "thread2 = threading.Thread(target=go)\n",
    "\n",
    "thread1.start()\n",
    "thread2.start()"
   ]
  },
  {
   "cell_type": "markdown",
   "metadata": {
    "collapsed": true
   },
   "source": [
    "声明：本资料仅供内部学习交流使用，切勿外传。"
   ]
  }
 ],
 "metadata": {
  "kernelspec": {
   "display_name": "Python 3",
   "language": "python",
   "name": "python3"
  },
  "language_info": {
   "codemirror_mode": {
    "name": "ipython",
    "version": 3
   },
   "file_extension": ".py",
   "mimetype": "text/x-python",
   "name": "python",
   "nbconvert_exporter": "python",
   "pygments_lexer": "ipython3",
   "version": "3.8.8"
  }
 },
 "nbformat": 4,
 "nbformat_minor": 2
}
